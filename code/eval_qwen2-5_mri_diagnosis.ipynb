{
 "cells": [
  {
   "cell_type": "markdown",
   "id": "952f7945",
   "metadata": {},
   "source": [
    "# 🧠 Qwen2.5 Brain MRI Disease Diagnosis\n",
    "\n",
    "Predict disease based on clinical history and image findings using Qwen2.5."
   ]
  },
  {
   "cell_type": "markdown",
   "id": "78d812b4",
   "metadata": {},
   "source": [
    "## 1. Setup & Imports"
   ]
  },
  {
   "cell_type": "code",
   "execution_count": 1,
   "id": "2454d49c",
   "metadata": {},
   "outputs": [],
   "source": [
    "import os, json, base64, sys\n",
    "from openai import OpenAI\n",
    "from dotenv import load_dotenv\n",
    "from tqdm import tqdm\n",
    "import matplotlib.pyplot as plt\n",
    "%matplotlib inline\n",
    "\n",
    "def encode_image_to_data_uri(path: str) -> str:\n",
    "    with open(path, \"rb\") as f:\n",
    "        b64 = base64.b64encode(f.read()).decode('utf-8')\n",
    "    return f\"data:image/png;base64,{b64}\"\n",
    "\n",
    "DATASET_DIR = \"VLM-Seminar25-Dataset/nova_brain\"\n",
    "IMAGES_DIR = os.path.join(DATASET_DIR, \"images\")\n",
    "ANNOT_PATH = os.path.join(DATASET_DIR, \"annotations.json\")\n",
    "RESULTS_DIR = \"../results/nova_brain/diagnosis\"\n",
    "os.makedirs(RESULTS_DIR, exist_ok=True)\n",
    "\n",
    "with open(ANNOT_PATH, \"r\") as f:\n",
    "    annotations = json.load(f)\n",
    "case_ids = list(annotations.keys())\n",
    "\n",
    "load_dotenv(dotenv_path=\"../config/user.env\")\n",
    "api_key = os.environ.get(\"NEBIUS_API_KEY\")\n",
    "client = OpenAI(base_url=\"https://api.studio.nebius.com/v1/\", api_key=api_key)"
   ]
  },
  {
   "cell_type": "code",
   "execution_count": 2,
   "id": "24a8c31e",
   "metadata": {},
   "outputs": [],
   "source": [
    "do_new_inference = True"
   ]
  },
  {
   "cell_type": "markdown",
   "id": "070b8fcb",
   "metadata": {},
   "source": [
    "## 2. Model Inference"
   ]
  },
  {
   "cell_type": "code",
   "execution_count": 25,
   "id": "aeb9b022",
   "metadata": {},
   "outputs": [
    {
     "name": "stderr",
     "output_type": "stream",
     "text": [
      "100%|██████████| 25/25 [01:30<00:00,  3.63s/it]\n"
     ]
    }
   ],
   "source": [
    "diagnosis_results = []\n",
    "if do_new_inference:\n",
    "    for case_id in tqdm(case_ids):\n",
    "        case = annotations[case_id]\n",
    "        clinical_history = case.get(\"clinical_history\", \"\")\n",
    "        image_findings = case.get(\"image_findings\", {})\n",
    "        image_message_content = []\n",
    "        image_names = []\n",
    "        for img_name in image_findings:\n",
    "            img_path = os.path.join(IMAGES_DIR, img_name)\n",
    "            data_uri = encode_image_to_data_uri(img_path)\n",
    "            image_message_content.append({\"type\": \"image_url\", \"image_url\": {\"url\": data_uri}})\n",
    "            image_names.append(img_name)\n",
    "        prompt = (\n",
    "            f\"Based on the clinical history: {clinical_history} and the provided MRI images, \"\n",
    "            \"provide your diagnosis for the disease. Consider all provided images. Output only the final diagnosis as a short phrase, with no explanation or extra text.\"\n",
    "        )\n",
    "        # Compose the message: prompt first, then all images\n",
    "        message_content = [{\"type\": \"text\", \"text\": prompt}] + image_message_content\n",
    "        completion = client.chat.completions.create(\n",
    "            model=\"Qwen/Qwen2.5-VL-72B-Instruct\",\n",
    "            messages=[\n",
    "                {\n",
    "                    \"role\": \"user\",\n",
    "                    \"content\": message_content,\n",
    "                }\n",
    "            ],\n",
    "        )\n",
    "        pred = completion.choices[0].message.content.strip()\n",
    "        diagnosis_results.append({\n",
    "            \"case_id\": case_id,\n",
    "            \"prediction\": pred,\n",
    "            \"final_diagnosis\": case.get(\"final_diagnosis\", \"\"),\n",
    "            \"prompt\": prompt,\n",
    "            \"clinical_history\": clinical_history,\n",
    "            \"images\": image_names,\n",
    "        })"
   ]
  },
  {
   "cell_type": "markdown",
   "id": "a3a08560",
   "metadata": {},
   "source": [
    "## 3. Save Model Predictions"
   ]
  },
  {
   "cell_type": "code",
   "execution_count": 26,
   "id": "750a62c4",
   "metadata": {},
   "outputs": [
    {
     "name": "stdout",
     "output_type": "stream",
     "text": [
      "Saved diagnosis results.\n"
     ]
    }
   ],
   "source": [
    "if do_new_inference:\n",
    "    with open(os.path.join(RESULTS_DIR, \"qwen2_5_diagnosis_results_zeroshot.json\"), \"w\") as f:\n",
    "        json.dump(diagnosis_results, f, indent=2)\n",
    "    print(\"Saved diagnosis results.\")"
   ]
  },
  {
   "cell_type": "markdown",
   "id": "80e59d8e",
   "metadata": {},
   "source": [
    "Load results"
   ]
  },
  {
   "cell_type": "code",
   "execution_count": 27,
   "id": "4d0d2c0a",
   "metadata": {},
   "outputs": [
    {
     "name": "stdout",
     "output_type": "stream",
     "text": [
      "Number of cases diagnosed: 25\n"
     ]
    }
   ],
   "source": [
    "with open(os.path.join(RESULTS_DIR, \"qwen2_5_diagnosis_results_zeroshot.json\"), \"r\") as f:\n",
    "    diagnosis_results = json.load(f)\n",
    "print(f\"Number of cases diagnosed: {len(diagnosis_results)}\")"
   ]
  },
  {
   "cell_type": "code",
   "execution_count": 28,
   "id": "0fba41d1",
   "metadata": {},
   "outputs": [
    {
     "data": {
      "text/plain": [
       "[{'case_id': 'case0061',\n",
       "  'prediction': 'Colloid cyst',\n",
       "  'final_diagnosis': 'Central neurocytoma',\n",
       "  'prompt': 'Based on the clinical history: A 30-year-old patient presented to the emergency department with 3 days history of headache, nausea and vomiting. Memory loss and disorientation in time and space were reported, without other neurological manifestations. and the provided MRI images, provide your diagnosis for the disease. Consider all provided images. Output only the final diagnosis as a short phrase, with no explanation or extra text.',\n",
       "  'clinical_history': 'A 30-year-old patient presented to the emergency department with 3 days history of headache, nausea and vomiting. Memory loss and disorientation in time and space were reported, without other neurological manifestations.',\n",
       "  'images': ['case0061_001.png', 'case0061_002.png']},\n",
       " {'case_id': 'case0246',\n",
       "  'prediction': 'Neurocysticercosis',\n",
       "  'final_diagnosis': 'Fahr’s syndrome',\n",
       "  'prompt': 'Based on the clinical history: A 27-year-old male had an incidental finding of intracranial calcifications on a CT head scan. The scan was performed to evaluate an enlarged external occipital protuberance discovered after shaving his head . According to the family, over the past two years, the patient has experienced forgetfulness with a reduced attention span. His academic performance at the university has progressively declined during this period, especially in the last few months, during which he has become more silent and less communicative . He reported no sensory-motor disturbances, cerebellar symptoms, seizures, or extrapyramidal features. Consequently, both CT and MRI scans of the head were requested. and the provided MRI images, provide your diagnosis for the disease. Consider all provided images. Output only the final diagnosis as a short phrase, with no explanation or extra text.',\n",
       "  'clinical_history': 'A 27-year-old male had an incidental finding of intracranial calcifications on a CT head scan. The scan was performed to evaluate an enlarged external occipital protuberance discovered after shaving his head . According to the family, over the past two years, the patient has experienced forgetfulness with a reduced attention span. His academic performance at the university has progressively declined during this period, especially in the last few months, during which he has become more silent and less communicative . He reported no sensory-motor disturbances, cerebellar symptoms, seizures, or extrapyramidal features. Consequently, both CT and MRI scans of the head were requested.',\n",
       "  'images': ['case0246_001.png']},\n",
       " {'case_id': 'case0115',\n",
       "  'prediction': 'Brain abscess',\n",
       "  'final_diagnosis': 'Pyogenic brain abscess with intraventricular rupture',\n",
       "  'prompt': 'Based on the clinical history: A 49-year-old man with a history of alcohol abuse presented to the Emergency Department with fever, headache and productive cough for the past 4 days. The day before his clinical conditions were aggravated by confusion and motor slowing. No relevant previous medical history. Laboratory analysis found leukocytosis and increased c-reactive-protein. and the provided MRI images, provide your diagnosis for the disease. Consider all provided images. Output only the final diagnosis as a short phrase, with no explanation or extra text.',\n",
       "  'clinical_history': 'A 49-year-old man with a history of alcohol abuse presented to the Emergency Department with fever, headache and productive cough for the past 4 days. The day before his clinical conditions were aggravated by confusion and motor slowing. No relevant previous medical history. Laboratory analysis found leukocytosis and increased c-reactive-protein.',\n",
       "  'images': ['case0115_007.png',\n",
       "   'case0115_001.png',\n",
       "   'case0115_002.png',\n",
       "   'case0115_003.png',\n",
       "   'case0115_004.png',\n",
       "   'case0115_005.png',\n",
       "   'case0115_006.png']},\n",
       " {'case_id': 'case0088',\n",
       "  'prediction': 'Frontal bone meningioma',\n",
       "  'final_diagnosis': 'Diffuse large B-cell lymphoma in the dura  with disseminated disease',\n",
       "  'prompt': 'Based on the clinical history: A 55-year-old male patient was admitted to the hospital due to painless progressive swelling over the right frontal area for the last one year. The overlying skin was healthy. The patient referred occasional mild headaches. He had no history of fever, weight loss or night sweats. and the provided MRI images, provide your diagnosis for the disease. Consider all provided images. Output only the final diagnosis as a short phrase, with no explanation or extra text.',\n",
       "  'clinical_history': 'A 55-year-old male patient was admitted to the hospital due to painless progressive swelling over the right frontal area for the last one year. The overlying skin was healthy. The patient referred occasional mild headaches. He had no history of fever, weight loss or night sweats.',\n",
       "  'images': ['case0088_004.png',\n",
       "   'case0088_001.png',\n",
       "   'case0088_002.png',\n",
       "   'case0088_003.png']},\n",
       " {'case_id': 'case0034',\n",
       "  'prediction': 'Cerebellar atrophy',\n",
       "  'final_diagnosis': 'Epidermoid cyst',\n",
       "  'prompt': 'Based on the clinical history: The patient presented with headache, generalized weakness, abnormal gait and loss of balance which gradually developed over the period of the past 2 years. There was no sensorymotor deficit. and the provided MRI images, provide your diagnosis for the disease. Consider all provided images. Output only the final diagnosis as a short phrase, with no explanation or extra text.',\n",
       "  'clinical_history': 'The patient presented with headache, generalized weakness, abnormal gait and loss of balance which gradually developed over the period of the past 2 years. There was no sensorymotor deficit.',\n",
       "  'images': ['case0034_003.png',\n",
       "   'case0034_004.png',\n",
       "   'case0034_001.png',\n",
       "   'case0034_002.png',\n",
       "   'case0034_005.png']},\n",
       " {'case_id': 'case0005',\n",
       "  'prediction': 'Tuberous Sclerosis Complex',\n",
       "  'final_diagnosis': 'Basal ganglia calcifications secondary to hypoparathyroidism',\n",
       "  'prompt': 'Based on the clinical history: A 15-year-old male patient with history of seizures and limb spasm presented at our hospital. and the provided MRI images, provide your diagnosis for the disease. Consider all provided images. Output only the final diagnosis as a short phrase, with no explanation or extra text.',\n",
       "  'clinical_history': 'A 15-year-old male patient with history of seizures and limb spasm presented at our hospital.',\n",
       "  'images': ['case0005_003.png', 'case0005_001.png', 'case0005_002.png']},\n",
       " {'case_id': 'case0080',\n",
       "  'prediction': 'Methylmalonic Acidemia',\n",
       "  'final_diagnosis': 'Methylmalonic acidaemia (MMA)',\n",
       "  'prompt': 'Based on the clinical history: A six-year-old male child presented to the emergency room complaining about weakness, lethargy, abnormal respiration and episodes of vomiting together with dizziness one month before. The parents admitted to developmental delay, eating disorders, seizures, iron-deficiency-anaemia under treatment, and surgical excision of adenoids 2 months ago. Workup revealed elevated ammonia and methylmalonyc acid levels and low vitamin-B12 levels in the blood. and the provided MRI images, provide your diagnosis for the disease. Consider all provided images. Output only the final diagnosis as a short phrase, with no explanation or extra text.',\n",
       "  'clinical_history': 'A six-year-old male child presented to the emergency room complaining about weakness, lethargy, abnormal respiration and episodes of vomiting together with dizziness one month before. The parents admitted to developmental delay, eating disorders, seizures, iron-deficiency-anaemia under treatment, and surgical excision of adenoids 2 months ago. Workup revealed elevated ammonia and methylmalonyc acid levels and low vitamin-B12 levels in the blood.',\n",
       "  'images': ['case0080_006.png',\n",
       "   'case0080_002.png',\n",
       "   'case0080_003.png',\n",
       "   'case0080_004.png',\n",
       "   'case0080_005.png',\n",
       "   'case0080_001.png']},\n",
       " {'case_id': 'case0150',\n",
       "  'prediction': 'Diabetic ketoacidosis with cerebral edema',\n",
       "  'final_diagnosis': 'Diabetic striatopathy',\n",
       "  'prompt': 'Based on the clinical history: A 66-year-old female with type II diabetes mellitus since 25 years on irregular treatment, presenting with complaint of random, uncontrollable, involuntary, jerking movements of left upper limb and left lower-limb , her random blood sugar was found 580 mg/dl, HbA1c -17.46% and urine ketones ++. and the provided MRI images, provide your diagnosis for the disease. Consider all provided images. Output only the final diagnosis as a short phrase, with no explanation or extra text.',\n",
       "  'clinical_history': 'A 66-year-old female with type II diabetes mellitus since 25 years on irregular treatment, presenting with complaint of random, uncontrollable, involuntary, jerking movements of left upper limb and left lower-limb , her random blood sugar was found 580 mg/dl, HbA1c -17.46% and urine ketones ++.',\n",
       "  'images': ['case0150_001.png',\n",
       "   'case0150_002.png',\n",
       "   'case0150_003.png',\n",
       "   'case0150_004.png']},\n",
       " {'case_id': 'case0127',\n",
       "  'prediction': \"Wilson's Disease\",\n",
       "  'final_diagnosis': 'Case of Wilson disease in a patient with giddiness',\n",
       "  'prompt': \"Based on the clinical history: 19-year-old girl presented with mild tremors of hand in the last two months and giddiness, vomiting in the past two days. There was no significant history of similar complaints or other major illnesses in the patient's family. Neurologic examination showed subtle extra pyramidal symptoms and hence was referred for brain MRI. and the provided MRI images, provide your diagnosis for the disease. Consider all provided images. Output only the final diagnosis as a short phrase, with no explanation or extra text.\",\n",
       "  'clinical_history': \"19-year-old girl presented with mild tremors of hand in the last two months and giddiness, vomiting in the past two days. There was no significant history of similar complaints or other major illnesses in the patient's family. Neurologic examination showed subtle extra pyramidal symptoms and hence was referred for brain MRI.\",\n",
       "  'images': ['case0127_001.png', 'case0127_002.png', 'case0127_003.png']},\n",
       " {'case_id': 'case0275',\n",
       "  'prediction': 'Septo-optic dysplasia',\n",
       "  'final_diagnosis': 'Septo-optic dysplasia plus syndrome',\n",
       "  'prompt': 'Based on the clinical history: The patient is a 5-year-old male with a history of medicated panhypopituitarism and psychomotor development delay. Ophthalmologic examination revealed an absence of light perception and a pale optic disc on the left side. and the provided MRI images, provide your diagnosis for the disease. Consider all provided images. Output only the final diagnosis as a short phrase, with no explanation or extra text.',\n",
       "  'clinical_history': 'The patient is a 5-year-old male with a history of medicated panhypopituitarism and psychomotor development delay. Ophthalmologic examination revealed an absence of light perception and a pale optic disc on the left side.',\n",
       "  'images': ['case0275_001.png', 'case0275_002.png']},\n",
       " {'case_id': 'case0274',\n",
       "  'prediction': 'Tuberculous meningitis',\n",
       "  'final_diagnosis': 'Tuberculosis meningoencephalitis',\n",
       "  'prompt': 'Based on the clinical history: A 42-year-old female with a history of chronic cough and night sweats presented to the emergency department with a 2-week history of headache, fever, confusion, and altered mental status. The patient had no significant past medical history or known contact with tuberculosis. On examination, she was febrile (38.5°C), disoriented, and had nuchal rigidity. No focal neurological deficits were noted. and the provided MRI images, provide your diagnosis for the disease. Consider all provided images. Output only the final diagnosis as a short phrase, with no explanation or extra text.',\n",
       "  'clinical_history': 'A 42-year-old female with a history of chronic cough and night sweats presented to the emergency department with a 2-week history of headache, fever, confusion, and altered mental status. The patient had no significant past medical history or known contact with tuberculosis. On examination, she was febrile (38.5°C), disoriented, and had nuchal rigidity. No focal neurological deficits were noted.',\n",
       "  'images': ['case0274_001.png', 'case0274_002.png']},\n",
       " {'case_id': 'case0043',\n",
       "  'prediction': 'Tuberous Sclerosis Complex',\n",
       "  'final_diagnosis': 'Hypomelanosis of Ito',\n",
       "  'prompt': 'Based on the clinical history: A 6-year-old boy came for MRI with complaints of delayed development, hypotonia, seizures. Birth history was normal and he was born to non-consanguineous parents. His younger sibling was normal. On clinical examination, the patient had multiple hypopigmented and hyperpigmented patches on limbs, back and chest. and the provided MRI images, provide your diagnosis for the disease. Consider all provided images. Output only the final diagnosis as a short phrase, with no explanation or extra text.',\n",
       "  'clinical_history': 'A 6-year-old boy came for MRI with complaints of delayed development, hypotonia, seizures. Birth history was normal and he was born to non-consanguineous parents. His younger sibling was normal. On clinical examination, the patient had multiple hypopigmented and hyperpigmented patches on limbs, back and chest.',\n",
       "  'images': ['case0043_001.png',\n",
       "   'case0043_002.png',\n",
       "   'case0043_005.png',\n",
       "   'case0043_003.png',\n",
       "   'case0043_004.png']},\n",
       " {'case_id': 'case0212',\n",
       "  'prediction': 'Cerebral palsy',\n",
       "  'final_diagnosis': 'L-2-hydroxyglutaric aciduria',\n",
       "  'prompt': 'Based on the clinical history: A 3-year-old boy presented with a history of development delay, showing difficulties in the acquisition of words and sentence construction, and delayed capacity to walk without support. Parents concerns first began at 2 months of age because of hypotonia. Physical examination showed brachycephaly, ataxic gait and dysmetria. and the provided MRI images, provide your diagnosis for the disease. Consider all provided images. Output only the final diagnosis as a short phrase, with no explanation or extra text.',\n",
       "  'clinical_history': 'A 3-year-old boy presented with a history of development delay, showing difficulties in the acquisition of words and sentence construction, and delayed capacity to walk without support. Parents concerns first began at 2 months of age because of hypotonia. Physical examination showed brachycephaly, ataxic gait and dysmetria.',\n",
       "  'images': ['case0212_001.png',\n",
       "   'case0212_002.png',\n",
       "   'case0212_003.png',\n",
       "   'case0212_004.png']},\n",
       " {'case_id': 'case0113',\n",
       "  'prediction': 'Multiple Sclerosis',\n",
       "  'final_diagnosis': 'FAMILIAL CEREBRAL CAVERNOUS MALFORMATION SYNDROME',\n",
       "  'prompt': 'Based on the clinical history: A 44-year-old female presented to the Neurology clinic complaining of chronic headache. She had no other complaint. There was no history of any associated aura or nausea. Patient refused for a Computed tomography of brain due to radiation hazard and underwent a non contrast MRI of brain. and the provided MRI images, provide your diagnosis for the disease. Consider all provided images. Output only the final diagnosis as a short phrase, with no explanation or extra text.',\n",
       "  'clinical_history': 'A 44-year-old female presented to the Neurology clinic complaining of chronic headache. She had no other complaint. There was no history of any associated aura or nausea. Patient refused for a Computed tomography of brain due to radiation hazard and underwent a non contrast MRI of brain.',\n",
       "  'images': ['case0113_001.png', 'case0113_002.png', 'case0113_003.png']},\n",
       " {'case_id': 'case0106',\n",
       "  'prediction': 'Brain abscess secondary to pulmonary tuberculosis',\n",
       "  'final_diagnosis': 'Pontine tuberculoma',\n",
       "  'prompt': 'Based on the clinical history: A 32-year-old male patient presented with complaints of sudden loss of consciousness and right-sided weakness for the past 2 days. The patient had chronic cough with expectoration, low-grade fever and weight loss for the past 6 months. and the provided MRI images, provide your diagnosis for the disease. Consider all provided images. Output only the final diagnosis as a short phrase, with no explanation or extra text.',\n",
       "  'clinical_history': 'A 32-year-old male patient presented with complaints of sudden loss of consciousness and right-sided weakness for the past 2 days. The patient had chronic cough with expectoration, low-grade fever and weight loss for the past 6 months.',\n",
       "  'images': ['case0106_003.png',\n",
       "   'case0106_004.png',\n",
       "   'case0106_001.png',\n",
       "   'case0106_002.png']},\n",
       " {'case_id': 'case0208',\n",
       "  'prediction': 'Focal cortical dysplasia',\n",
       "  'final_diagnosis': 'Angiocentric glioma',\n",
       "  'prompt': 'Based on the clinical history: A 15-year-old male with a history of refractory epilepsy for the last three years. During the previous weeks, the patient had a gradual clinical worsening with frequent and prolonged seizures. The patient had no other relevant clinical history. The patient was submitted to an electroencephalogram (EEG) that revealed interictal and sporadic paroxysmal activity with a right superior frontal location. and the provided MRI images, provide your diagnosis for the disease. Consider all provided images. Output only the final diagnosis as a short phrase, with no explanation or extra text.',\n",
       "  'clinical_history': 'A 15-year-old male with a history of refractory epilepsy for the last three years. During the previous weeks, the patient had a gradual clinical worsening with frequent and prolonged seizures. The patient had no other relevant clinical history. The patient was submitted to an electroencephalogram (EEG) that revealed interictal and sporadic paroxysmal activity with a right superior frontal location.',\n",
       "  'images': ['case0208_001.png']},\n",
       " {'case_id': 'case0070',\n",
       "  'prediction': 'Post-stroke palatal myoclonus',\n",
       "  'final_diagnosis': 'Hypertrophic olivary degeneration',\n",
       "  'prompt': 'Based on the clinical history: One month after having run out of his anti-hypertensive medication, a 61-year-old male patient was diagnosed in the emergency room as having had a stroke. Nine months after the stroke, he developed a synchronous tremor in his palate. and the provided MRI images, provide your diagnosis for the disease. Consider all provided images. Output only the final diagnosis as a short phrase, with no explanation or extra text.',\n",
       "  'clinical_history': 'One month after having run out of his anti-hypertensive medication, a 61-year-old male patient was diagnosed in the emergency room as having had a stroke. Nine months after the stroke, he developed a synchronous tremor in his palate.',\n",
       "  'images': ['case0070_001.png',\n",
       "   'case0070_002.png',\n",
       "   'case0070_003.png',\n",
       "   'case0070_011.png',\n",
       "   'case0070_008.png',\n",
       "   'case0070_009.png',\n",
       "   'case0070_010.png',\n",
       "   'case0070_004.png',\n",
       "   'case0070_005.png',\n",
       "   'case0070_006.png',\n",
       "   'case0070_007.png']},\n",
       " {'case_id': 'case0012',\n",
       "  'prediction': 'Cerebral sarcoidosis',\n",
       "  'final_diagnosis': 'Tumefactive demyelination.',\n",
       "  'prompt': 'Based on the clinical history: A 44-year-old gentleman, a known case of pulmonary sarcoidosis since 10 years, came to the ER department following an episode of seizure along with sudden onset weakness on the right side of the face and right lower limb. Clinically, vasculitis-induced stroke or a glioma were suspected. and the provided MRI images, provide your diagnosis for the disease. Consider all provided images. Output only the final diagnosis as a short phrase, with no explanation or extra text.',\n",
       "  'clinical_history': 'A 44-year-old gentleman, a known case of pulmonary sarcoidosis since 10 years, came to the ER department following an episode of seizure along with sudden onset weakness on the right side of the face and right lower limb. Clinically, vasculitis-induced stroke or a glioma were suspected.',\n",
       "  'images': ['case0012_003.png',\n",
       "   'case0012_004.png',\n",
       "   'case0012_005.png',\n",
       "   'case0012_006.png',\n",
       "   'case0012_001.png',\n",
       "   'case0012_002.png']},\n",
       " {'case_id': 'case0200',\n",
       "  'prediction': 'Acute disseminated encephalomyelitis (ADEM)',\n",
       "  'final_diagnosis': 'Chronic Lymphocytic',\n",
       "  'prompt': 'Based on the clinical history: A 24-year-old man presented to our hospital with an established subacute dizziness with gait instability, ataxia, diplopia, dysarthria, dysphagia, slurred speech and quadriplegia. Cerebrospinal fluid analysis revealed elevated white blood cell count with lymphocytes. Extensive laboratory evaluation of serum and CSF biomarkers for autoimmune and infectious causes werd\\xa0negative. and the provided MRI images, provide your diagnosis for the disease. Consider all provided images. Output only the final diagnosis as a short phrase, with no explanation or extra text.',\n",
       "  'clinical_history': 'A 24-year-old man presented to our hospital with an established subacute dizziness with gait instability, ataxia, diplopia, dysarthria, dysphagia, slurred speech and quadriplegia. Cerebrospinal fluid analysis revealed elevated white blood cell count with lymphocytes. Extensive laboratory evaluation of serum and CSF biomarkers for autoimmune and infectious causes werd\\xa0negative.',\n",
       "  'images': ['case0200_001.png']},\n",
       " {'case_id': 'case0247',\n",
       "  'prediction': 'Neurocysticercosis',\n",
       "  'final_diagnosis': 'Tuberculoma involving cerebellum with resultant hydrocephalus',\n",
       "  'prompt': 'Based on the clinical history: A 7-year-old female patient presents with regression of motor developmental milestones. The patient had a cough, low-grade fever and weight loss for the past 6 months. and the provided MRI images, provide your diagnosis for the disease. Consider all provided images. Output only the final diagnosis as a short phrase, with no explanation or extra text.',\n",
       "  'clinical_history': 'A 7-year-old female patient presents with regression of motor developmental milestones. The patient had a cough, low-grade fever and weight loss for the past 6 months.',\n",
       "  'images': ['case0247_001.png']},\n",
       " {'case_id': 'case0255',\n",
       "  'prediction': 'Cranial meningocele',\n",
       "  'final_diagnosis': 'Sinus pericranii',\n",
       "  'prompt': 'Based on the clinical history: A 5-year-old boy presented to the paediatric clinic with a parietal cranial soft tissue mass present since birth. The mass had become progressively sore and increased in size. The patient had no significant medical history, other complaints, or neurological deficits. and the provided MRI images, provide your diagnosis for the disease. Consider all provided images. Output only the final diagnosis as a short phrase, with no explanation or extra text.',\n",
       "  'clinical_history': 'A 5-year-old boy presented to the paediatric clinic with a parietal cranial soft tissue mass present since birth. The mass had become progressively sore and increased in size. The patient had no significant medical history, other complaints, or neurological deficits.',\n",
       "  'images': ['case0255_001.png', 'case0255_002.png', 'case0255_003.png']},\n",
       " {'case_id': 'case0135',\n",
       "  'prediction': 'Multiple Sclerosis',\n",
       "  'final_diagnosis': 'Chronic lymphocytic inflammation with pontine perivascular enhancement responsive to steroids',\n",
       "  'prompt': 'Based on the clinical history: A 71-year-old male patient complained of gait ataxia, loss of muscle strength, recurrent falls, tremor in both hands and a weight loss of 10 kg over the last 3 months. The patient came to the emergency room after an acute episode of dysarthria and tingling in the face on the left side. and the provided MRI images, provide your diagnosis for the disease. Consider all provided images. Output only the final diagnosis as a short phrase, with no explanation or extra text.',\n",
       "  'clinical_history': 'A 71-year-old male patient complained of gait ataxia, loss of muscle strength, recurrent falls, tremor in both hands and a weight loss of 10 kg over the last 3 months. The patient came to the emergency room after an acute episode of dysarthria and tingling in the face on the left side.',\n",
       "  'images': ['case0135_001.png',\n",
       "   'case0135_005.png',\n",
       "   'case0135_006.png',\n",
       "   'case0135_002.png',\n",
       "   'case0135_003.png',\n",
       "   'case0135_004.png']},\n",
       " {'case_id': 'case0018',\n",
       "  'prediction': 'Normal MRI',\n",
       "  'final_diagnosis': 'Colloid cyst',\n",
       "  'prompt': 'Based on the clinical history: A 56-years-old man consulted his General Practitioner with a history of increased feeling of cranial pressure and headache for two days. The patient was sent to the local Casualty Department. In clinical examination nothing abnormal was detected. All laboratory tests were normal. A cranial CT was performed, followed by cranial MRI. and the provided MRI images, provide your diagnosis for the disease. Consider all provided images. Output only the final diagnosis as a short phrase, with no explanation or extra text.',\n",
       "  'clinical_history': 'A 56-years-old man consulted his General Practitioner with a history of increased feeling of cranial pressure and headache for two days. The patient was sent to the local Casualty Department. In clinical examination nothing abnormal was detected. All laboratory tests were normal. A cranial CT was performed, followed by cranial MRI.',\n",
       "  'images': ['case0018_003.png', 'case0018_001.png', 'case0018_002.png']},\n",
       " {'case_id': 'case0054',\n",
       "  'prediction': 'Status epilepticus',\n",
       "  'final_diagnosis': 'Transient splenial lesion of corpus callosum due to sudden withdrawal of anti-epileptic drugs.',\n",
       "  'prompt': 'Based on the clinical history: A 17-year-old female patient with a known seizure disorder presented to the casualty with tonic-clonic seizures, in an unconscious state, and loss of both upper and lower limb reflexes. She was previously on anti-epileptics, which were stopped for 2 months for a gummatous inflammation. and the provided MRI images, provide your diagnosis for the disease. Consider all provided images. Output only the final diagnosis as a short phrase, with no explanation or extra text.',\n",
       "  'clinical_history': 'A 17-year-old female patient with a known seizure disorder presented to the casualty with tonic-clonic seizures, in an unconscious state, and loss of both upper and lower limb reflexes. She was previously on anti-epileptics, which were stopped for 2 months for a gummatous inflammation.',\n",
       "  'images': ['case0054_001.png']},\n",
       " {'case_id': 'case0277',\n",
       "  'prediction': 'Right orbital pseudotumor',\n",
       "  'final_diagnosis': 'Psammomatoid juvenile ossifying fibroma',\n",
       "  'prompt': 'Based on the clinical history: A 10-year-old patient with a personal history of strabismus surgery at the age of 2 years, presented with progressive limitation\\xa0of upward eye movements and proptosis of the right eye. She does not report diplopia, blurred vision or pain. and the provided MRI images, provide your diagnosis for the disease. Consider all provided images. Output only the final diagnosis as a short phrase, with no explanation or extra text.',\n",
       "  'clinical_history': 'A 10-year-old patient with a personal history of strabismus surgery at the age of 2 years, presented with progressive limitation\\xa0of upward eye movements and proptosis of the right eye. She does not report diplopia, blurred vision or pain.',\n",
       "  'images': ['case0277_001.png',\n",
       "   'case0277_002.png',\n",
       "   'case0277_003.png',\n",
       "   'case0277_004.png']}]"
      ]
     },
     "execution_count": 28,
     "metadata": {},
     "output_type": "execute_result"
    }
   ],
   "source": [
    "diagnosis_results"
   ]
  },
  {
   "cell_type": "markdown",
   "id": "396d313c",
   "metadata": {},
   "source": [
    "## 4. Evaluation & Metrics"
   ]
  },
  {
   "cell_type": "markdown",
   "id": "a8fcce62",
   "metadata": {},
   "source": [
    "USing LLM"
   ]
  },
  {
   "cell_type": "code",
   "execution_count": 31,
   "id": "abc6ac69",
   "metadata": {},
   "outputs": [
    {
     "name": "stderr",
     "output_type": "stream",
     "text": [
      "100%|██████████| 25/25 [00:10<00:00,  2.48it/s]"
     ]
    },
    {
     "name": "stdout",
     "output_type": "stream",
     "text": [
      "Saved per-image LLM evaluation results to ../results/nova_brain/diagnosis\\llm_eval_scores_final_diagnosis.json\n"
     ]
    },
    {
     "name": "stderr",
     "output_type": "stream",
     "text": [
      "\n"
     ]
    }
   ],
   "source": [
    "llm_eval_results = []\n",
    "\n",
    "# compare to final or differential diagnosis\n",
    "compare_to = \"final_diagnosis\"  #  \"diagdifferential_diagnosisnosis\" or \"final_diagnosis\"\n",
    "\n",
    "for x in tqdm(diagnosis_results):\n",
    "    gt = x[compare_to]\n",
    "    pred = x[\"prediction\"]\n",
    "    prompt = (\n",
    "        \"You are a medical expert. Given the ground truth diagnosis and the predicted diagnosis, determine whether the diagnosis is correct or incorrect.\"\n",
    "        \"Return only 'correct' or 'incorrect''\\n\"\n",
    "        f\"Ground truth diagnosis : {gt}\\n\"\n",
    "        f\"Predicted diagnosis: {pred}\\n\"\n",
    "    )\n",
    "    completion = client.chat.completions.create(\n",
    "        model=\"Qwen/Qwen2.5-VL-72B-Instruct\",\n",
    "        messages=[\n",
    "            {\"role\": \"user\", \"content\": prompt}\n",
    "        ],\n",
    "    )\n",
    "    score_str = completion.choices[0].message.content.strip()\n",
    "    score = score_str.lower()\n",
    "\n",
    "    llm_eval_results.append({\n",
    "        \"case_id\": x[\"case_id\"],\n",
    "        \"ground_truth\": gt,\n",
    "        \"prediction\": pred,\n",
    "        \"llm_score\": score,\n",
    "    })\n",
    "\n",
    "# Save LLM evaluation results TODO change to name_second if you want to use the second set\n",
    "llm_json_path = os.path.join(RESULTS_DIR, f\"llm_eval_scores_{compare_to}.json\")\n",
    "with open(llm_json_path, \"w\") as f:\n",
    "    json.dump(llm_eval_results, f, indent=2)\n",
    "print(f\"Saved per-image LLM evaluation results to {llm_json_path}\")"
   ]
  },
  {
   "cell_type": "code",
   "execution_count": 32,
   "id": "aa33863e",
   "metadata": {},
   "outputs": [
    {
     "data": {
      "text/plain": [
       "[{'case_id': 'case0061',\n",
       "  'ground_truth': 'Central neurocytoma',\n",
       "  'prediction': 'Colloid cyst',\n",
       "  'llm_score': 'incorrect'},\n",
       " {'case_id': 'case0246',\n",
       "  'ground_truth': 'Fahr’s syndrome',\n",
       "  'prediction': 'Neurocysticercosis',\n",
       "  'llm_score': 'incorrect'},\n",
       " {'case_id': 'case0115',\n",
       "  'ground_truth': 'Pyogenic brain abscess with intraventricular rupture',\n",
       "  'prediction': 'Brain abscess',\n",
       "  'llm_score': 'incorrect'},\n",
       " {'case_id': 'case0088',\n",
       "  'ground_truth': 'Diffuse large B-cell lymphoma in the dura  with disseminated disease',\n",
       "  'prediction': 'Frontal bone meningioma',\n",
       "  'llm_score': 'incorrect'},\n",
       " {'case_id': 'case0034',\n",
       "  'ground_truth': 'Epidermoid cyst',\n",
       "  'prediction': 'Cerebellar atrophy',\n",
       "  'llm_score': 'incorrect'},\n",
       " {'case_id': 'case0005',\n",
       "  'ground_truth': 'Basal ganglia calcifications secondary to hypoparathyroidism',\n",
       "  'prediction': 'Tuberous Sclerosis Complex',\n",
       "  'llm_score': 'incorrect'},\n",
       " {'case_id': 'case0080',\n",
       "  'ground_truth': 'Methylmalonic acidaemia (MMA)',\n",
       "  'prediction': 'Methylmalonic Acidemia',\n",
       "  'llm_score': 'correct'},\n",
       " {'case_id': 'case0150',\n",
       "  'ground_truth': 'Diabetic striatopathy',\n",
       "  'prediction': 'Diabetic ketoacidosis with cerebral edema',\n",
       "  'llm_score': 'incorrect'},\n",
       " {'case_id': 'case0127',\n",
       "  'ground_truth': 'Case of Wilson disease in a patient with giddiness',\n",
       "  'prediction': \"Wilson's Disease\",\n",
       "  'llm_score': 'correct'},\n",
       " {'case_id': 'case0275',\n",
       "  'ground_truth': 'Septo-optic dysplasia plus syndrome',\n",
       "  'prediction': 'Septo-optic dysplasia',\n",
       "  'llm_score': 'incorrect'},\n",
       " {'case_id': 'case0274',\n",
       "  'ground_truth': 'Tuberculosis meningoencephalitis',\n",
       "  'prediction': 'Tuberculous meningitis',\n",
       "  'llm_score': 'correct'},\n",
       " {'case_id': 'case0043',\n",
       "  'ground_truth': 'Hypomelanosis of Ito',\n",
       "  'prediction': 'Tuberous Sclerosis Complex',\n",
       "  'llm_score': 'incorrect'},\n",
       " {'case_id': 'case0212',\n",
       "  'ground_truth': 'L-2-hydroxyglutaric aciduria',\n",
       "  'prediction': 'Cerebral palsy',\n",
       "  'llm_score': 'incorrect'},\n",
       " {'case_id': 'case0113',\n",
       "  'ground_truth': 'FAMILIAL CEREBRAL CAVERNOUS MALFORMATION SYNDROME',\n",
       "  'prediction': 'Multiple Sclerosis',\n",
       "  'llm_score': 'incorrect'},\n",
       " {'case_id': 'case0106',\n",
       "  'ground_truth': 'Pontine tuberculoma',\n",
       "  'prediction': 'Brain abscess secondary to pulmonary tuberculosis',\n",
       "  'llm_score': 'incorrect'},\n",
       " {'case_id': 'case0208',\n",
       "  'ground_truth': 'Angiocentric glioma',\n",
       "  'prediction': 'Focal cortical dysplasia',\n",
       "  'llm_score': 'incorrect'},\n",
       " {'case_id': 'case0070',\n",
       "  'ground_truth': 'Hypertrophic olivary degeneration',\n",
       "  'prediction': 'Post-stroke palatal myoclonus',\n",
       "  'llm_score': 'incorrect'},\n",
       " {'case_id': 'case0012',\n",
       "  'ground_truth': 'Tumefactive demyelination.',\n",
       "  'prediction': 'Cerebral sarcoidosis',\n",
       "  'llm_score': 'incorrect'},\n",
       " {'case_id': 'case0200',\n",
       "  'ground_truth': 'Chronic Lymphocytic',\n",
       "  'prediction': 'Acute disseminated encephalomyelitis (ADEM)',\n",
       "  'llm_score': 'incorrect'},\n",
       " {'case_id': 'case0247',\n",
       "  'ground_truth': 'Tuberculoma involving cerebellum with resultant hydrocephalus',\n",
       "  'prediction': 'Neurocysticercosis',\n",
       "  'llm_score': 'incorrect'},\n",
       " {'case_id': 'case0255',\n",
       "  'ground_truth': 'Sinus pericranii',\n",
       "  'prediction': 'Cranial meningocele',\n",
       "  'llm_score': 'incorrect'},\n",
       " {'case_id': 'case0135',\n",
       "  'ground_truth': 'Chronic lymphocytic inflammation with pontine perivascular enhancement responsive to steroids',\n",
       "  'prediction': 'Multiple Sclerosis',\n",
       "  'llm_score': 'incorrect'},\n",
       " {'case_id': 'case0018',\n",
       "  'ground_truth': 'Colloid cyst',\n",
       "  'prediction': 'Normal MRI',\n",
       "  'llm_score': 'incorrect'},\n",
       " {'case_id': 'case0054',\n",
       "  'ground_truth': 'Transient splenial lesion of corpus callosum due to sudden withdrawal of anti-epileptic drugs.',\n",
       "  'prediction': 'Status epilepticus',\n",
       "  'llm_score': 'incorrect'},\n",
       " {'case_id': 'case0277',\n",
       "  'ground_truth': 'Psammomatoid juvenile ossifying fibroma',\n",
       "  'prediction': 'Right orbital pseudotumor',\n",
       "  'llm_score': 'incorrect'}]"
      ]
     },
     "execution_count": 32,
     "metadata": {},
     "output_type": "execute_result"
    }
   ],
   "source": [
    "llm_eval_results"
   ]
  },
  {
   "cell_type": "markdown",
   "id": "c5c85678",
   "metadata": {},
   "source": [
    "PLot results"
   ]
  },
  {
   "cell_type": "code",
   "execution_count": 33,
   "id": "c045c007",
   "metadata": {},
   "outputs": [
    {
     "data": {
      "image/png": "[encoded data removed]",
      "text/plain": [
       "<Figure size 1400x500 with 1 Axes>"
      ]
     },
     "metadata": {},
     "output_type": "display_data"
    }
   ],
   "source": [
    "import matplotlib.pyplot as plt\n",
    "plt.figure(figsize=(14, 5))\n",
    "\n",
    "# Map 'correct' to 1, 'incorrect' to 0 for plotting\n",
    "score_map = {'correct': 1, 'incorrect': 0}\n",
    "scores = [score_map.get(str(x.get(\"llm_score\", \"\")).strip().lower(), 0) for x in llm_eval_results]\n",
    "xaxis = [x.get(\"case_id\", \"\") for x in llm_eval_results]\n",
    "\n",
    "plt.plot(xaxis, scores, marker='o', linestyle='-', color='b')\n",
    "plt.xticks(rotation=90)\n",
    "plt.xlabel(\"Case ID\")\n",
    "plt.ylabel(\"LLM Score (1=correct, 0=incorrect)\")\n",
    "plt.title(f\"Qwen2.5-VL-72B LLM Scores (correct/incorrect) - {compare_to}\")\n",
    "plt.tight_layout()\n",
    "plt.savefig(os.path.join(RESULTS_DIR, f\"llm_scores_{compare_to}.png\"))\n",
    "plt.show()"
   ]
  },
  {
   "cell_type": "code",
   "execution_count": 41,
   "id": "806dfa34",
   "metadata": {},
   "outputs": [
    {
     "name": "stdout",
     "output_type": "stream",
     "text": [
      "Number of cases with correct diagnosis: 3 out of 25 total cases\n",
      "Percentage of correct diagnoses: 12.00%\n",
      "Printing cases with correct diagnosis:\n",
      "\n",
      "---\n",
      "\n",
      "case_id: case0080\n",
      "prediction: Methylmalonic Acidemia\n",
      "final_diagnosis: Methylmalonic acidaemia (MMA)\n",
      "prompt: Based on the clinical history: A six-year-old male child presented to the emergency room complaining about weakness, lethargy, abnormal respiration and episodes of vomiting together with dizziness one month before. The parents admitted to developmental delay, eating disorders, seizures, iron-deficiency-anaemia under treatment, and surgical excision of adenoids 2 months ago. Workup revealed elevated ammonia and methylmalonyc acid levels and low vitamin-B12 levels in the blood. and the provided MRI images, provide your diagnosis for the disease. Consider all provided images. Output only the final diagnosis as a short phrase, with no explanation or extra text.\n",
      "clinical_history: A six-year-old male child presented to the emergency room complaining about weakness, lethargy, abnormal respiration and episodes of vomiting together with dizziness one month before. The parents admitted to developmental delay, eating disorders, seizures, iron-deficiency-anaemia under treatment, and surgical excision of adenoids 2 months ago. Workup revealed elevated ammonia and methylmalonyc acid levels and low vitamin-B12 levels in the blood.\n",
      "images: ['case0080_006.png', 'case0080_002.png', 'case0080_003.png', 'case0080_004.png', 'case0080_005.png', 'case0080_001.png']\n",
      "\n",
      "---\n",
      "\n",
      "case_id: case0127\n",
      "prediction: Wilson's Disease\n",
      "final_diagnosis: Case of Wilson disease in a patient with giddiness\n",
      "prompt: Based on the clinical history: 19-year-old girl presented with mild tremors of hand in the last two months and giddiness, vomiting in the past two days. There was no significant history of similar complaints or other major illnesses in the patient's family. Neurologic examination showed subtle extra pyramidal symptoms and hence was referred for brain MRI. and the provided MRI images, provide your diagnosis for the disease. Consider all provided images. Output only the final diagnosis as a short phrase, with no explanation or extra text.\n",
      "clinical_history: 19-year-old girl presented with mild tremors of hand in the last two months and giddiness, vomiting in the past two days. There was no significant history of similar complaints or other major illnesses in the patient's family. Neurologic examination showed subtle extra pyramidal symptoms and hence was referred for brain MRI.\n",
      "images: ['case0127_001.png', 'case0127_002.png', 'case0127_003.png']\n",
      "\n",
      "---\n",
      "\n",
      "case_id: case0274\n",
      "prediction: Tuberculous meningitis\n",
      "final_diagnosis: Tuberculosis meningoencephalitis\n",
      "prompt: Based on the clinical history: A 42-year-old female with a history of chronic cough and night sweats presented to the emergency department with a 2-week history of headache, fever, confusion, and altered mental status. The patient had no significant past medical history or known contact with tuberculosis. On examination, she was febrile (38.5°C), disoriented, and had nuchal rigidity. No focal neurological deficits were noted. and the provided MRI images, provide your diagnosis for the disease. Consider all provided images. Output only the final diagnosis as a short phrase, with no explanation or extra text.\n",
      "clinical_history: A 42-year-old female with a history of chronic cough and night sweats presented to the emergency department with a 2-week history of headache, fever, confusion, and altered mental status. The patient had no significant past medical history or known contact with tuberculosis. On examination, she was febrile (38.5°C), disoriented, and had nuchal rigidity. No focal neurological deficits were noted.\n",
      "images: ['case0274_001.png', 'case0274_002.png']\n"
     ]
    }
   ],
   "source": [
    "totoal_corr_pred = sum(1 for x in llm_eval_results if x.get('llm_score', '').strip().lower() == 'correct')\n",
    "print(f\"Number of cases with correct diagnosis: {totoal_corr_pred} out of {len(llm_eval_results)} total cases\")\n",
    "print(f\"Percentage of correct diagnoses: {totoal_corr_pred / len(llm_eval_results) * 100:.2f}%\")\n",
    "print(f\"Printing cases with correct diagnosis:\")\n",
    "for result in llm_eval_results:\n",
    "    if result.get(\"llm_score\", \"\").strip().lower() == \"correct\":\n",
    "        print(\"\\n---\\n\")\n",
    "        case_id = result.get(\"case_id\")\n",
    "        #print(f\"\\nCase ID: {case_id}\")\n",
    "        # Find the corresponding diagnosis result for full info\n",
    "        case_info = next((x for x in diagnosis_results if x.get(\"case_id\") == case_id), None)\n",
    "        if case_info:\n",
    "            for k, v in case_info.items():\n",
    "                print(f\"{k}: {v}\")\n",
    "                "
   ]
  },
  {
   "cell_type": "code",
   "execution_count": null,
   "id": "a127f50e",
   "metadata": {},
   "outputs": [],
   "source": []
  }
 ],
 "metadata": {
  "kernelspec": {
   "display_name": "ml4reg",
   "language": "python",
   "name": "python3"
  },
  "language_info": {
   "codemirror_mode": {
    "name": "ipython",
    "version": 3
   },
   "file_extension": ".py",
   "mimetype": "text/x-python",
   "name": "python",
   "nbconvert_exporter": "python",
   "pygments_lexer": "ipython3",
   "version": "3.13.2"
  }
 },
 "nbformat": 4,
 "nbformat_minor": 5
}
