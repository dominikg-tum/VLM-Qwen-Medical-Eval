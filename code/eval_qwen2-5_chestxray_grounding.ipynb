{
 "cells": [
  {
   "cell_type": "markdown",
   "id": "0f42e0bb",
   "metadata": {},
   "source": [
    "# 🫁 Qwen2.5 Chest X-ray Abnormality Grounding\n",
    "\n",
    "Locate abnormality areas in chest X-rays using Qwen2.5 and evaluate with mAP."
   ]
  },
  {
   "cell_type": "markdown",
   "id": "d0a0fbe7",
   "metadata": {},
   "source": [
    "## 1. Setup & Imports"
   ]
  },
  {
   "cell_type": "code",
   "execution_count": 29,
   "id": "b286dd34",
   "metadata": {},
   "outputs": [
    {
     "name": "stdout",
     "output_type": "stream",
     "text": [
      "Number of images in the dataset: 50\n",
      "Number of images in the dataset: 50\n"
     ]
    }
   ],
   "source": [
    "import os, json, base64\n",
    "from openai import OpenAI\n",
    "from dotenv import load_dotenv\n",
    "from tqdm import tqdm\n",
    "import matplotlib.pyplot as plt\n",
    "import sys\n",
    "%matplotlib inline\n",
    "\n",
    "def encode_image_to_data_uri(path: str) -> str:\n",
    "    with open(path, \"rb\") as f:\n",
    "        b64 = base64.b64encode(f.read()).decode('utf-8')\n",
    "    return f\"data:image/png;base64,{b64}\"\n",
    "\n",
    "DATASET_DIR = \"VLM-Seminar25-Dataset/chest_xrays\"\n",
    "IMAGES_DIR = os.path.join(DATASET_DIR, \"images\")\n",
    "ANNOT_PATH = os.path.join(DATASET_DIR, \"annotations_len_50.json\")\n",
    "RESULTS_DIR = \"../results/chest_xrays/grounding\"\n",
    "\n",
    "os.makedirs(RESULTS_DIR, exist_ok=True)\n",
    "\n",
    "with open(ANNOT_PATH, \"r\") as f:\n",
    "    annotations = json.load(f)\n",
    "image_ids = list(annotations.keys())\n",
    "print(f\"Number of images in the dataset: {len(image_ids)}\")\n",
    "print(f\"Number of images in the dataset: {len(list(set(image_ids)))}\")\n",
    "\n",
    "load_dotenv(dotenv_path=\"../config/user.env\")\n",
    "api_key = os.environ.get(\"NEBIUS_API_KEY\")\n",
    "client = OpenAI(base_url=\"https://api.studio.nebius.com/v1/\", api_key=api_key)"
   ]
  },
  {
   "cell_type": "code",
   "execution_count": 23,
   "id": "5caf2c6d",
   "metadata": {},
   "outputs": [],
   "source": [
    "do_new_inference = True"
   ]
  },
  {
   "cell_type": "markdown",
   "id": "2deba385",
   "metadata": {},
   "source": [
    "## 2. Model Inference\n",
    "Only done for unhealthy xrays!"
   ]
  },
  {
   "cell_type": "code",
   "execution_count": null,
   "id": "b8bbf658",
   "metadata": {},
   "outputs": [],
   "source": [
    "grounding_results = []\n",
    "if do_new_inference:\n",
    "    for img_id in tqdm(image_ids):\n",
    "        print()\n",
    "        ann = annotations[img_id]\n",
    "        if ann[\"status\"] == \"healthy\" or not ann.get(\"global_disease\"):\n",
    "            continue\n",
    "        disease = ann[\"global_disease\"][0]\n",
    "        img_path = os.path.join(IMAGES_DIR, img_id + \".png\")\n",
    "        data_uri = encode_image_to_data_uri(img_path)\n",
    "        prompt = f\"Please locate {disease} and output bounding boxes as floats [x1, y1, x2, y2]. Output nothing else.\"\n",
    "        completion = client.chat.completions.create(\n",
    "            model=\"Qwen/Qwen2.5-VL-72B-Instruct\",\n",
    "            messages=[\n",
    "                {\n",
    "                    \"role\": \"user\",\n",
    "                    \"content\": [\n",
    "                        {\"type\": \"text\", \"text\": prompt},\n",
    "                        {\"type\": \"image_url\", \"image_url\": {\"url\": data_uri}},\n",
    "                    ],\n",
    "                }\n",
    "            ],\n",
    "        )\n",
    "        pred = completion.choices[0].message.content.strip()\n",
    "        print(pred)\n",
    "        grounding_results.append({\"id\": img_id, \"disease\": disease, \"prediction\": pred})"
   ]
  },
  {
   "cell_type": "markdown",
   "id": "5d11ba76",
   "metadata": {},
   "source": [
    "Interesting prompting note: Without  \"If the disease is not present, output '[]'.\" it outputs coords, otherwise often not!"
   ]
  },
  {
   "cell_type": "markdown",
   "id": "1c8954fc",
   "metadata": {},
   "source": [
    "## 3. Save Model Predictions"
   ]
  },
  {
   "cell_type": "code",
   "execution_count": 26,
   "id": "b730d4f5",
   "metadata": {},
   "outputs": [
    {
     "name": "stdout",
     "output_type": "stream",
     "text": [
      "Saved grounding results.\n"
     ]
    }
   ],
   "source": [
    "with open(os.path.join(RESULTS_DIR, \"qwen2.5_grounding_results.json\"), \"w\") as f:\n",
    "    json.dump(grounding_results, f, indent=2)\n",
    "print(\"Saved grounding results.\")"
   ]
  },
  {
   "cell_type": "markdown",
   "id": "abc176b1",
   "metadata": {},
   "source": [
    "Load results"
   ]
  },
  {
   "cell_type": "code",
   "execution_count": 40,
   "id": "a1eec9ec",
   "metadata": {},
   "outputs": [
    {
     "name": "stdout",
     "output_type": "stream",
     "text": [
      "Number of grounding results: 12\n"
     ]
    }
   ],
   "source": [
    "with open(os.path.join(RESULTS_DIR, \"qwen2.5_grounding_results.json\"), \"r\") as f:\n",
    "    grounding_results = json.load(f)\n",
    "print(f\"Number of grounding results: {len(grounding_results)}\")"
   ]
  },
  {
   "cell_type": "markdown",
   "id": "6be09ef3",
   "metadata": {},
   "source": [
    "## 4. Evaluation & Metrics"
   ]
  },
  {
   "cell_type": "code",
   "execution_count": 42,
   "id": "853202d0",
   "metadata": {},
   "outputs": [],
   "source": [
    "sys.path.append(\"eval_scripts\")\n",
    "from calculate_map import compute_map_supervision, draw_boxes\n",
    "\n"
   ]
  }
 ],
 "metadata": {
  "kernelspec": {
   "display_name": "ml4reg",
   "language": "python",
   "name": "python3"
  },
  "language_info": {
   "codemirror_mode": {
    "name": "ipython",
    "version": 3
   },
   "file_extension": ".py",
   "mimetype": "text/x-python",
   "name": "python",
   "nbconvert_exporter": "python",
   "pygments_lexer": "ipython3",
   "version": "3.13.2"
  }
 },
 "nbformat": 4,
 "nbformat_minor": 5
}
